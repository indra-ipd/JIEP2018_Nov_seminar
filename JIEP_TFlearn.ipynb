{
 "cells": [
  {
   "cell_type": "code",
   "execution_count": 12,
   "metadata": {},
   "outputs": [
    {
     "name": "stdout",
     "output_type": "stream",
     "text": [
      "Training Step: 989  | total loss: \u001b[1m\u001b[32m0.10935\u001b[0m\u001b[0m | time: 5.369s\n",
      "| SGD | epoch: 002 | loss: 0.10935 - acc: 0.9704 -- iter: 49400/49500\n",
      "Training Step: 990  | total loss: \u001b[1m\u001b[32m0.11110\u001b[0m\u001b[0m | time: 6.405s\n",
      "| SGD | epoch: 002 | loss: 0.11110 - acc: 0.9693 | val_loss: 0.13721 - val_acc: 0.9609 -- iter: 49500/49500\n",
      "--\n",
      "[7 2 1 ... 4 5 6]\n",
      "[7 2 1 ... 4 5 6]\n",
      "0.9663\n"
     ]
    }
   ],
   "source": [
    "import tensorflow as tf\n",
    "import tflearn\n",
    "\n",
    "import tflearn.datasets.mnist as mnist\n",
    "\n",
    "from matplotlib import pyplot as plt\n",
    "from matplotlib import cm\n",
    "import numpy as np\n",
    "\n",
    "#trainX, trainY, testX, testY = mnist.load_data('./mnist', one_hot=True) # tflearn用\n",
    "trainX, trainY, testX, testY = mnist.load_data('/tmp/data', one_hot=True) #  tensorflow用\n",
    "\n",
    "\n",
    "\n",
    "tf.reset_default_graph()\n",
    "\n",
    "net = tflearn.input_data(shape=[None, 784])\n",
    "\n",
    "net = tflearn.fully_connected(net, 128, activation='relu')\n",
    "#net = tflearn.dropout(net, 0.5)\n",
    "net = tflearn.fully_connected(net, 10, activation='softmax')\n",
    "net = tflearn.regression(net, optimizer='sgd', learning_rate=0.5, loss='categorical_crossentropy')\n",
    "\n",
    "\n",
    "model = tflearn.DNN(net)\n",
    "#model.fit(trainX, trainY, n_epoch=20, batch_size=100, validation_set=0.1, show_metric=True)\n",
    "model.fit(trainX, trainY, n_epoch=2, batch_size=100, validation_set=0.1, show_metric=True)\n",
    "\n",
    "#pred= np.array(model.predict(testX).argmax(axis=1))\n",
    "x=model.predict(testX)\n",
    "pred=np.array(x).argmax(axis=1)\n",
    "print(pred)\n",
    "label= testY.argmax(axis=1)\n",
    "print(label)\n",
    "accuracy=np.mean(pred == label, axis=0)\n",
    "print(accuracy)\n",
    "\n"
   ]
  },
  {
   "cell_type": "code",
   "execution_count": 14,
   "metadata": {},
   "outputs": [
    {
     "ename": "NameError",
     "evalue": "name 'W' is not defined",
     "output_type": "error",
     "traceback": [
      "\u001b[1;31m---------------------------------------------------------------------------\u001b[0m",
      "\u001b[1;31mNameError\u001b[0m                                 Traceback (most recent call last)",
      "\u001b[1;32m<ipython-input-14-41d9dcfeb0d9>\u001b[0m in \u001b[0;36m<module>\u001b[1;34m()\u001b[0m\n\u001b[1;32m----> 1\u001b[1;33m \u001b[0mprint\u001b[0m\u001b[1;33m(\u001b[0m\u001b[0mW\u001b[0m\u001b[1;33m)\u001b[0m\u001b[1;33m\u001b[0m\u001b[0m\n\u001b[0m",
      "\u001b[1;31mNameError\u001b[0m: name 'W' is not defined"
     ]
    }
   ],
   "source": [
    "print(W)"
   ]
  },
  {
   "cell_type": "code",
   "execution_count": null,
   "metadata": {},
   "outputs": [],
   "source": []
  }
 ],
 "metadata": {
  "kernelspec": {
   "display_name": "Python 3",
   "language": "python",
   "name": "python3"
  },
  "language_info": {
   "codemirror_mode": {
    "name": "ipython",
    "version": 3
   },
   "file_extension": ".py",
   "mimetype": "text/x-python",
   "name": "python",
   "nbconvert_exporter": "python",
   "pygments_lexer": "ipython3",
   "version": "3.5.5"
  }
 },
 "nbformat": 4,
 "nbformat_minor": 2
}
