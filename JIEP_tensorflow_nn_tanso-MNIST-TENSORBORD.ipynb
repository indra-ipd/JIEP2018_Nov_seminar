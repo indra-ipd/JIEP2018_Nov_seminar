{
 "cells": [
  {
   "cell_type": "markdown",
   "metadata": {},
   "source": [
    "## tensorflow を使った単層(中間層1層）ニューラルネットワーク　の　ensorBoard 表示"
   ]
  },
  {
   "cell_type": "markdown",
   "metadata": {},
   "source": [
    "## 以下は，単層(中間層1層）ニューラルネットワーク　（JIEP_tensorflow_nn_tanso-MNIST.ipynb）と同じ内容です．"
   ]
  },
  {
   "cell_type": "markdown",
   "metadata": {},
   "source": [
    "## まずは，実行してみてください．"
   ]
  },
  {
   "cell_type": "code",
   "execution_count": 2,
   "metadata": {},
   "outputs": [
    {
     "name": "stdout",
     "output_type": "stream",
     "text": [
      "Extracting /tmp/data\\train-images-idx3-ubyte.gz\n",
      "Extracting /tmp/data\\train-labels-idx1-ubyte.gz\n",
      "Extracting /tmp/data\\t10k-images-idx3-ubyte.gz\n",
      "Extracting /tmp/data\\t10k-labels-idx1-ubyte.gz\n",
      "Step:  100, Loss: 3089.492676, Accuracy: 0.914200\n",
      "Step:  200, Loss: 2572.291504, Accuracy: 0.921100\n",
      "Step:  300, Loss: 2256.864502, Accuracy: 0.931100\n",
      "Step:  400, Loss: 1831.467896, Accuracy: 0.945700\n",
      "Step:  500, Loss: 1756.163940, Accuracy: 0.946400\n",
      "Step:  600, Loss: 1725.195679, Accuracy: 0.948400\n",
      "Step:  700, Loss: 1554.253174, Accuracy: 0.950700\n",
      "Step:  800, Loss: 1477.438721, Accuracy: 0.955000\n",
      "Step:  900, Loss: 1430.414551, Accuracy: 0.955400\n",
      "Step:  1000, Loss: 1482.965332, Accuracy: 0.952800\n",
      "Step:  1100, Loss: 1375.742432, Accuracy: 0.957700\n",
      "Step:  1200, Loss: 1243.835693, Accuracy: 0.962400\n",
      "Step:  1300, Loss: 1258.420166, Accuracy: 0.960700\n",
      "Step:  1400, Loss: 1192.930786, Accuracy: 0.962300\n",
      "Step:  1500, Loss: 1262.994019, Accuracy: 0.961700\n",
      "Step:  1600, Loss: 1200.536499, Accuracy: 0.963700\n",
      "Step:  1700, Loss: 1088.142456, Accuracy: 0.965100\n",
      "Step:  1800, Loss: 1131.550293, Accuracy: 0.964900\n",
      "Step:  1900, Loss: 1064.922119, Accuracy: 0.966200\n",
      "Step:  2000, Loss: 1187.144287, Accuracy: 0.963700\n"
     ]
    }
   ],
   "source": [
    "import tensorflow as tf\n",
    "import numpy as np\n",
    "import matplotlib.pyplot as plt\n",
    "from tensorflow.examples.tutorials.mnist import input_data\n",
    "\n",
    "np.random.seed(20160614)\n",
    "tf.set_random_seed(20160614)\n",
    "\n",
    "mnist = input_data.read_data_sets(\"/tmp/data\", one_hot=True)\n",
    "\n",
    "\n",
    "class SingleLayerNetwork:\n",
    "    def __init__(self, num_units):\n",
    "        with tf.Graph().as_default():\n",
    "            self.prepare_model(num_units)\n",
    "            self.prepare_session()\n",
    "            \n",
    "    def prepare_model(self, num_units):\n",
    "        with tf.name_scope('input'):\n",
    "            x = tf.placeholder(tf.float32, [None, 784], name='input')\n",
    "            \n",
    "        with tf.name_scope('hidden'):\n",
    "            w1 = tf.Variable(tf.truncated_normal([784, num_units]),\n",
    "                             name = 'weights')\n",
    "            b1 = tf.Variable(tf.zeros([num_units]), name ='biases')\n",
    "            hidden1 = tf.nn.relu(tf.matmul(x, w1) + b1, name = 'hidden1')\n",
    "            \n",
    "        with tf.name_scope('output'):\n",
    "            w0 = tf.Variable(tf.zeros([num_units, 10]), name = 'weights')\n",
    "            b0 = tf.Variable(tf.zeros([10]), name = 'biases')\n",
    "            p  = tf.nn.softmax(tf.matmul(hidden1, w0) + b0, name = 'softmax')\n",
    "            \n",
    "        with tf.name_scope('optimizer'):\n",
    "            t = tf.placeholder(tf.float32, [None, 10], name = 'labels')\n",
    "            loss = -tf.reduce_sum(t * tf.log(p), name = 'loss')\n",
    "            train_step = tf.train.AdamOptimizer().minimize(loss)\n",
    "        \n",
    "        with tf.name_scope('evaluator'):\n",
    "            correct_prediction = tf.equal(tf.argmax(p, 1), tf.argmax(t, 1))\n",
    "            accuracy = tf.reduce_mean(tf.cast(correct_prediction, \n",
    "                                              tf.float32), name = 'accuracy')\n",
    "\n",
    "#以下，tf.scalar_summary -> tf.summary.scalar の修正を行った．\n",
    "        tf.summary.scalar(\"loss\", loss)\n",
    "        tf.summary.scalar(\"accuracy\", accuracy)\n",
    "#以下，tf.histogram_summary -> tf.summary.histogram の修正を行った．\n",
    "        tf.summary.histogram(\"weights_hidden\", w1)\n",
    "        tf.summary.histogram(\"biases_hidden\", b1)\n",
    "        tf.summary.histogram(\"weights_output\", w0)\n",
    "        tf.summary.histogram(\"biases_output\", b0)\n",
    "        \n",
    "        self.x, self.t, self.p = x, t, p\n",
    "        self.train_step = train_step\n",
    "        self.loss = loss\n",
    "        self.accuracy = accuracy\n",
    "\n",
    "    def prepare_session(self):\n",
    "        sess = tf.InteractiveSession()\n",
    "# sess.run(tf.initialize_all_variables()) # 2017-03-02 より以下に変更\n",
    "        sess.run(tf.global_variables_initializer())\n",
    "        \n",
    "#以下，tf.merge_all_summaries -> tf.summary.merge_all の修正を行った．\n",
    "        summary = tf.summary.merge_all()\n",
    "# 以下，tf.train.SummaryWriter -> tf.summary.FileWriter の修正を行った．\n",
    "        writer = tf.summary.FileWriter(\"/tmp/mnist_sl_logs\", sess.graph)      \n",
    "    \n",
    "    \n",
    "        self.sess = sess\n",
    "        self.summary = summary\n",
    "        self.writer = writer\n",
    "    \n",
    "#!rm -rf /tmp/mnist_sl_logs\n",
    "\n",
    "\n",
    "nn = SingleLayerNetwork(512)\n",
    "\n",
    "i=0\n",
    "for _ in range(2000):\n",
    "    i += 1\n",
    "    batch_xs, batch_ts = mnist.train.next_batch(100)\n",
    "    nn.sess.run(nn.train_step, feed_dict={nn.x: batch_xs, nn.t: batch_ts})\n",
    "    if i % 100 == 0:\n",
    "        summary, loss_val, acc_val = nn.sess.run(\n",
    "            [nn.summary, nn.loss, nn.accuracy],\n",
    "            feed_dict={nn.x:mnist.test.images, nn.t: mnist.test.labels})\n",
    "        print ('Step:  %d, Loss: %f, Accuracy: %f'\n",
    "              % (i, loss_val, acc_val))\n",
    "        nn.writer.add_summary(summary, i)\n",
    "        \n",
    "        \n",
    "\n",
    "        "
   ]
  },
  {
   "cell_type": "markdown",
   "metadata": {},
   "source": [
    "## /tmp/data の下に mnist_sl_logs というフォルダができています．"
   ]
  },
  {
   "cell_type": "markdown",
   "metadata": {},
   "source": [
    "## そのフォルダの中に　events.out.tfevents.xxxxxx　というファイルができています．"
   ]
  },
  {
   "cell_type": "markdown",
   "metadata": {},
   "source": [
    "## 最新のファイルだけのこして，あとは削除してください．"
   ]
  },
  {
   "cell_type": "markdown",
   "metadata": {},
   "source": [
    "## anaconda から ターミナルを立ち上げてください．"
   ]
  },
  {
   "cell_type": "markdown",
   "metadata": {},
   "source": [
    "## ターミナルのプロンプトで "
   ]
  },
  {
   "cell_type": "markdown",
   "metadata": {},
   "source": [
    "##              tensorboard –logdir=/tmp/mnist_sl_logs"
   ]
  },
  {
   "cell_type": "markdown",
   "metadata": {},
   "source": [
    "## と入力してください．すると，ターミナルに"
   ]
  },
  {
   "cell_type": "markdown",
   "metadata": {},
   "source": [
    "##              http://XXXXXX:6006"
   ]
  },
  {
   "cell_type": "markdown",
   "metadata": {},
   "source": [
    "## と表示されます．このURLをブラウザに入力してください．"
   ]
  },
  {
   "cell_type": "code",
   "execution_count": null,
   "metadata": {},
   "outputs": [],
   "source": []
  }
 ],
 "metadata": {
  "kernelspec": {
   "display_name": "Python 3",
   "language": "python",
   "name": "python3"
  },
  "language_info": {
   "codemirror_mode": {
    "name": "ipython",
    "version": 3
   },
   "file_extension": ".py",
   "mimetype": "text/x-python",
   "name": "python",
   "nbconvert_exporter": "python",
   "pygments_lexer": "ipython3",
   "version": "3.5.4"
  }
 },
 "nbformat": 4,
 "nbformat_minor": 2
}
