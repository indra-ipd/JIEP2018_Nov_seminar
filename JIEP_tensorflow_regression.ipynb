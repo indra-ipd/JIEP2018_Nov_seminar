{
 "cells": [
  {
   "cell_type": "markdown",
   "metadata": {},
   "source": [
    "## tensorflow を使った回帰分析"
   ]
  },
  {
   "cell_type": "markdown",
   "metadata": {},
   "source": [
    "## パッケージのインポート"
   ]
  },
  {
   "cell_type": "code",
   "execution_count": 10,
   "metadata": {},
   "outputs": [],
   "source": [
    "import tensorflow as tf\n",
    "import numpy as np\n",
    "import matplotlib.pyplot as plt"
   ]
  },
  {
   "cell_type": "markdown",
   "metadata": {},
   "source": [
    "## tensorflow を使った変数の定義"
   ]
  },
  {
   "cell_type": "code",
   "execution_count": 12,
   "metadata": {},
   "outputs": [],
   "source": [
    "x = tf.placeholder(tf.float32, [None, 5])\n",
    "a = tf.Variable(tf.zeros([5,1]))\n",
    "\n",
    "y = tf.matmul(x, a)\n",
    "\n",
    "t = tf.placeholder(tf.float32, [None,1])\n",
    "\n",
    "loss = tf.reduce_sum(tf.square(y-t))"
   ]
  },
  {
   "cell_type": "markdown",
   "metadata": {},
   "source": [
    "## 最適化関数の選択"
   ]
  },
  {
   "cell_type": "code",
   "execution_count": 13,
   "metadata": {},
   "outputs": [],
   "source": [
    "train_step = tf.train.AdamOptimizer().minimize(loss)"
   ]
  },
  {
   "cell_type": "markdown",
   "metadata": {},
   "source": [
    "## 学習データの作成"
   ]
  },
  {
   "cell_type": "code",
   "execution_count": 25,
   "metadata": {},
   "outputs": [],
   "source": [
    "train_t = np.array([3.1, -0.8, 4.2, 9.9, 17.3, 24.2,\n",
    "                    29.0, 35.2, 32.0, 18.6, 9.1, 4.6])\n",
    "train_t = train_t.reshape([12,1])\n",
    "\n",
    "train_x = np.zeros([12,5])\n",
    "\n",
    "for row, month in enumerate(range(1, 13)):\n",
    "    for col, n in enumerate(range(0,5)):\n",
    "        train_x[row][col] = month**n"
   ]
  },
  {
   "cell_type": "markdown",
   "metadata": {},
   "source": [
    "## セッションの呼び出しと変数の初期化"
   ]
  },
  {
   "cell_type": "code",
   "execution_count": 26,
   "metadata": {},
   "outputs": [],
   "source": [
    "sess = tf.Session()\n",
    "#sess.run(tf.initialize_all_variables()) ⇒ 2017年からtf.global_variables_initializer()に変更\n",
    "sess.run(tf.global_variables_initializer())"
   ]
  },
  {
   "cell_type": "markdown",
   "metadata": {},
   "source": [
    "## 学習の開始"
   ]
  },
  {
   "cell_type": "code",
   "execution_count": 31,
   "metadata": {},
   "outputs": [
    {
     "name": "stdout",
     "output_type": "stream",
     "text": [
      "Step: 10000, Loss: 111.581924\n",
      "[[ 4.635398  ]\n",
      " [-8.2198    ]\n",
      " [ 3.8598795 ]\n",
      " [-0.37870258]\n",
      " [ 0.00932034]]\n",
      "Step: 20000, Loss: 107.656036\n",
      "[[ 5.2769914 ]\n",
      " [-8.891684  ]\n",
      " [ 4.0586324 ]\n",
      " [-0.40073276]\n",
      " [ 0.01015459]]\n",
      "Step: 30000, Loss: 104.252502\n",
      "[[ 5.8945    ]\n",
      " [-9.538377  ]\n",
      " [ 4.249909  ]\n",
      " [-0.42195454]\n",
      " [ 0.01093911]]\n",
      "Step: 40000, Loss: 101.091019\n",
      "[[  6.488782  ]\n",
      " [-10.160774  ]\n",
      " [  4.4340153 ]\n",
      " [ -0.4423773 ]\n",
      " [  0.01169842]]\n",
      "Step: 50000, Loss: 98.165520\n",
      "[[  7.0606995 ]\n",
      " [-10.759696  ]\n",
      " [  4.6111593 ]\n",
      " [ -0.46202585]\n",
      " [  0.01242923]]\n",
      "Step: 60000, Loss: 95.457245\n",
      "[[  7.610999 ]\n",
      " [-11.336068 ]\n",
      " [  4.781653 ]\n",
      " [ -0.4809407]\n",
      " [  0.0131305]]\n",
      "Step: 70000, Loss: 92.951523\n",
      "[[  8.140413  ]\n",
      " [-11.89049   ]\n",
      " [  4.945641  ]\n",
      " [ -0.4991323 ]\n",
      " [  0.01380555]]\n",
      "Step: 80000, Loss: 90.628006\n",
      "[[  8.65031   ]\n",
      " [-12.424597  ]\n",
      " [  5.1036425 ]\n",
      " [ -0.5166622 ]\n",
      " [  0.01445576]]\n",
      "Step: 90000, Loss: 88.477402\n",
      "[[  9.141326  ]\n",
      " [-12.938792  ]\n",
      " [  5.2557244 ]\n",
      " [ -0.5335344 ]\n",
      " [  0.01508005]]\n",
      "Step: 100000, Loss: 86.483536\n",
      "[[  9.6132965 ]\n",
      " [-13.433104  ]\n",
      " [  5.4019413 ]\n",
      " [ -0.54975235]\n",
      " [  0.01568437]]\n"
     ]
    }
   ],
   "source": [
    "i = 0\n",
    "for _ in range(100000):\n",
    "    i += 1\n",
    "    sess.run(train_step, feed_dict={x:train_x, t:train_t})\n",
    "    if i %  10000 == 0:\n",
    "        loss_val = sess.run(loss, feed_dict={x:train_x, t:train_t})\n",
    "        print('Step: %d, Loss: %f' % (i, loss_val))\n",
    "        \n",
    "        a_val = sess.run(a)\n",
    "        print(a_val) \n",
    "        \n",
    "        #fig = plt.figure()\n",
    "        #subplot = fig.add_subplot(1,1,1)\n",
    "        #subplot.set_xlim(1,12)\n",
    "        #subplot.scatter(range(1,13), train_t)\n",
    "        #linex = np.linspace(1,12,100)\n",
    "        #liney = predict(linex)\n",
    "        #subplot.plot(linex, liney)"
   ]
  },
  {
   "cell_type": "markdown",
   "metadata": {},
   "source": [
    "## 学習結果のプロット"
   ]
  },
  {
   "cell_type": "code",
   "execution_count": 30,
   "metadata": {},
   "outputs": [
    {
     "data": {
      "text/plain": [
       "[<matplotlib.lines.Line2D at 0xccc4860>]"
      ]
     },
     "execution_count": 30,
     "metadata": {},
     "output_type": "execute_result"
    },
    {
     "data": {
      "image/png": "[encoded data removed]",
      "text/plain": [
       "<Figure size 432x288 with 1 Axes>"
      ]
     },
     "metadata": {},
     "output_type": "display_data"
    }
   ],
   "source": [
    "def predict(x):\n",
    "    result = 0.0\n",
    "    for n in range(0,5):\n",
    "        result += a_val[n][0] * x**n\n",
    "    return result\n",
    "\n",
    "fig = plt.figure()\n",
    "subplot = fig.add_subplot(1,1,1)\n",
    "subplot.set_xlim(1,12)\n",
    "subplot.scatter(range(1,13), train_t)\n",
    "linex = np.linspace(1,12,100)\n",
    "liney = predict(linex)\n",
    "subplot.plot(linex, liney)"
   ]
  },
  {
   "cell_type": "code",
   "execution_count": null,
   "metadata": {},
   "outputs": [],
   "source": []
  },
  {
   "cell_type": "code",
   "execution_count": null,
   "metadata": {},
   "outputs": [],
   "source": []
  }
 ],
 "metadata": {
  "kernelspec": {
   "display_name": "Python 3",
   "language": "python",
   "name": "python3"
  },
  "language_info": {
   "codemirror_mode": {
    "name": "ipython",
    "version": 3
   },
   "file_extension": ".py",
   "mimetype": "text/x-python",
   "name": "python",
   "nbconvert_exporter": "python",
   "pygments_lexer": "ipython3",
   "version": "3.5.5"
  }
 },
 "nbformat": 4,
 "nbformat_minor": 2
}
