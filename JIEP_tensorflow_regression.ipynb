{
 "cells": [
  {
   "cell_type": "markdown",
   "metadata": {},
   "source": [
    "## tensorflow を使った回帰分析"
   ]
  },
  {
   "cell_type": "markdown",
   "metadata": {},
   "source": [
    "## パッケージのインポート"
   ]
  },
  {
   "cell_type": "code",
   "execution_count": 2,
   "metadata": {},
   "outputs": [],
   "source": [
    "import tensorflow as tf\n",
    "import numpy as np\n",
    "import matplotlib.pyplot as plt"
   ]
  },
  {
   "cell_type": "markdown",
   "metadata": {},
   "source": [
    "## tensorflow を使った変数の定義"
   ]
  },
  {
   "cell_type": "code",
   "execution_count": 3,
   "metadata": {},
   "outputs": [],
   "source": [
    "x = tf.placeholder(tf.float32, [None, 5])\n",
    "a = tf.Variable(tf.zeros([5,1]))\n",
    "\n",
    "y = tf.matmul(x, a)\n",
    "\n",
    "t = tf.placeholder(tf.float32, [None,1])\n",
    "\n",
    "loss = tf.reduce_sum(tf.square(y-t))"
   ]
  },
  {
   "cell_type": "markdown",
   "metadata": {},
   "source": [
    "## 最適化関数の選択"
   ]
  },
  {
   "cell_type": "code",
   "execution_count": 4,
   "metadata": {},
   "outputs": [],
   "source": [
    "train_step = tf.train.AdamOptimizer().minimize(loss)"
   ]
  },
  {
   "cell_type": "markdown",
   "metadata": {},
   "source": [
    "## 学習データの作成"
   ]
  },
  {
   "cell_type": "code",
   "execution_count": 5,
   "metadata": {},
   "outputs": [
    {
     "name": "stdout",
     "output_type": "stream",
     "text": [
      "train_t:\n",
      " [[ 3.1]\n",
      " [-0.8]\n",
      " [ 4.2]\n",
      " [ 9.9]\n",
      " [17.3]\n",
      " [24.2]\n",
      " [29. ]\n",
      " [35.2]\n",
      " [32. ]\n",
      " [18.6]\n",
      " [ 9.1]\n",
      " [ 4.6]]\n",
      "train_x:\n",
      " [[1.0000e+00 1.0000e+00 1.0000e+00 1.0000e+00 1.0000e+00]\n",
      " [1.0000e+00 2.0000e+00 4.0000e+00 8.0000e+00 1.6000e+01]\n",
      " [1.0000e+00 3.0000e+00 9.0000e+00 2.7000e+01 8.1000e+01]\n",
      " [1.0000e+00 4.0000e+00 1.6000e+01 6.4000e+01 2.5600e+02]\n",
      " [1.0000e+00 5.0000e+00 2.5000e+01 1.2500e+02 6.2500e+02]\n",
      " [1.0000e+00 6.0000e+00 3.6000e+01 2.1600e+02 1.2960e+03]\n",
      " [1.0000e+00 7.0000e+00 4.9000e+01 3.4300e+02 2.4010e+03]\n",
      " [1.0000e+00 8.0000e+00 6.4000e+01 5.1200e+02 4.0960e+03]\n",
      " [1.0000e+00 9.0000e+00 8.1000e+01 7.2900e+02 6.5610e+03]\n",
      " [1.0000e+00 1.0000e+01 1.0000e+02 1.0000e+03 1.0000e+04]\n",
      " [1.0000e+00 1.1000e+01 1.2100e+02 1.3310e+03 1.4641e+04]\n",
      " [1.0000e+00 1.2000e+01 1.4400e+02 1.7280e+03 2.0736e+04]]\n"
     ]
    }
   ],
   "source": [
    "train_t = np.array([3.1, -0.8, 4.2, 9.9, 17.3, 24.2,\n",
    "                    29.0, 35.2, 32.0, 18.6, 9.1, 4.6])\n",
    "train_t = train_t.reshape([12,1])\n",
    "\n",
    "train_x = np.zeros([12,5])\n",
    "\n",
    "for row, month in enumerate(range(1, 13)):\n",
    "    for col, n in enumerate(range(0,5)):\n",
    "        train_x[row][col] = month**n\n",
    "        \n",
    "        \n",
    "print('train_t:\\n',train_t)       \n",
    "print('train_x:\\n',train_x)"
   ]
  },
  {
   "cell_type": "markdown",
   "metadata": {},
   "source": [
    "## セッションの呼び出しと変数の初期化"
   ]
  },
  {
   "cell_type": "code",
   "execution_count": 6,
   "metadata": {},
   "outputs": [],
   "source": [
    "sess = tf.Session()\n",
    "#sess.run(tf.initialize_all_variables()) ⇒ 2017年からtf.global_variables_initializer()に変更\n",
    "sess.run(tf.global_variables_initializer())"
   ]
  },
  {
   "cell_type": "markdown",
   "metadata": {},
   "source": [
    "## 学習の開始"
   ]
  },
  {
   "cell_type": "code",
   "execution_count": 7,
   "metadata": {},
   "outputs": [
    {
     "name": "stdout",
     "output_type": "stream",
     "text": [
      "Step: 10000, Loss: 180.549561\n",
      "[[-2.5597787 ]\n",
      " [ 0.7201538 ]\n",
      " [ 0.95759755]\n",
      " [-0.03755801]\n",
      " [-0.0038284 ]]\n",
      "Step: 20000, Loss: 168.803589\n",
      "[[-3.1238780e+00]\n",
      " [ 6.2240969e-02]\n",
      " [ 1.3812853e+00]\n",
      " [-1.0155881e-01]\n",
      " [-9.9561037e-04]]\n",
      "Step: 30000, Loss: 160.811188\n",
      "[[-2.3590856e+00]\n",
      " [-8.7755007e-01]\n",
      " [ 1.6850070e+00]\n",
      " [-1.3718306e-01]\n",
      " [ 3.6842073e-04]]\n",
      "Step: 40000, Loss: 153.514984\n",
      "[[-1.4773459e+00]\n",
      " [-1.8164001e+00]\n",
      " [ 1.9655617e+00]\n",
      " [-1.6852076e-01]\n",
      " [ 1.5354226e-03]]\n",
      "Step: 50000, Loss: 146.775879\n",
      "[[-6.0992002e-01]\n",
      " [-2.7265007e+00]\n",
      " [ 2.2350559e+00]\n",
      " [-1.9844542e-01]\n",
      " [ 2.6410152e-03]]\n",
      "Step: 60000, Loss: 140.451935\n",
      "[[ 0.22693078]\n",
      " [-3.6030073 ]\n",
      " [ 2.494343  ]\n",
      " [-0.22720207]\n",
      " [ 0.00371584]]\n",
      "Step: 70000, Loss: 134.630920\n",
      "[[ 1.0326914 ]\n",
      " [-4.4468455 ]\n",
      " [ 2.7439342 ]\n",
      " [-0.2548911 ]\n",
      " [ 0.00474216]]\n",
      "Step: 80000, Loss: 129.243195\n",
      "[[ 1.8089057 ]\n",
      " [-5.259737  ]\n",
      " [ 2.9843671 ]\n",
      " [-0.28156567]\n",
      " [ 0.00572929]]\n",
      "Step: 90000, Loss: 124.231590\n",
      "[[ 2.5573537 ]\n",
      " [-6.043531  ]\n",
      " [ 3.2161977 ]\n",
      " [-0.30728146]\n",
      " [ 0.00668481]]\n",
      "Step: 100000, Loss: 119.600433\n",
      "[[ 3.2764292 ]\n",
      " [-6.796586  ]\n",
      " [ 3.4389396 ]\n",
      " [-0.33198938]\n",
      " [ 0.00760306]]\n"
     ]
    }
   ],
   "source": [
    "i = 0\n",
    "for _ in range(100000):\n",
    "    i += 1\n",
    "    sess.run(train_step, feed_dict={x:train_x, t:train_t})\n",
    "    if i %  10000 == 0:\n",
    "        loss_val = sess.run(loss, feed_dict={x:train_x, t:train_t})\n",
    "        print('Step: %d, Loss: %f' % (i, loss_val))\n",
    "        \n",
    "        a_val = sess.run(a)\n",
    "        print(a_val) \n",
    "        \n",
    "        #fig = plt.figure()\n",
    "        #subplot = fig.add_subplot(1,1,1)\n",
    "        #subplot.set_xlim(1,12)\n",
    "        #subplot.scatter(range(1,13), train_t)\n",
    "        #linex = np.linspace(1,12,100)\n",
    "        #liney = predict(linex)\n",
    "        #subplot.plot(linex, liney)"
   ]
  },
  {
   "cell_type": "markdown",
   "metadata": {},
   "source": [
    "## 学習結果のプロット"
   ]
  },
  {
   "cell_type": "code",
   "execution_count": 8,
   "metadata": {},
   "outputs": [
    {
     "data": {
      "text/plain": [
       "[<matplotlib.lines.Line2D at 0xb76ea58>]"
      ]
     },
     "execution_count": 8,
     "metadata": {},
     "output_type": "execute_result"
    },
    {
     "data": {
      "image/png": "[encoded data removed]",
      "text/plain": [
       "<Figure size 432x288 with 1 Axes>"
      ]
     },
     "metadata": {},
     "output_type": "display_data"
    }
   ],
   "source": [
    "def predict(x):\n",
    "    result = 0.0\n",
    "    for n in range(0,5):\n",
    "        result += a_val[n][0] * x**n\n",
    "    return result\n",
    "\n",
    "fig = plt.figure()\n",
    "subplot = fig.add_subplot(1,1,1)\n",
    "subplot.set_xlim(1,12)\n",
    "subplot.scatter(range(1,13), train_t)\n",
    "linex = np.linspace(1,12,100)\n",
    "liney = predict(linex)\n",
    "subplot.plot(linex, liney)"
   ]
  },
  {
   "cell_type": "code",
   "execution_count": null,
   "metadata": {},
   "outputs": [],
   "source": []
  },
  {
   "cell_type": "code",
   "execution_count": null,
   "metadata": {},
   "outputs": [],
   "source": []
  }
 ],
 "metadata": {
  "kernelspec": {
   "display_name": "Python 3",
   "language": "python",
   "name": "python3"
  },
  "language_info": {
   "codemirror_mode": {
    "name": "ipython",
    "version": 3
   },
   "file_extension": ".py",
   "mimetype": "text/x-python",
   "name": "python",
   "nbconvert_exporter": "python",
   "pygments_lexer": "ipython3",
   "version": "3.5.5"
  }
 },
 "nbformat": 4,
 "nbformat_minor": 2
}
