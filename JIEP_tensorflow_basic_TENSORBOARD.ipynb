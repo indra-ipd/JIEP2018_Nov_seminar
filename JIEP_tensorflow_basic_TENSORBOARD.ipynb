{
 "cells": [
  {
   "cell_type": "code",
   "execution_count": 1,
   "metadata": {},
   "outputs": [],
   "source": [
    "import tensorflow as tf\n",
    "\n",
    "a = tf.constant(1, name='a')\n",
    "b = tf.constant(2, name='b')\n",
    "c = tf.constant(3, name='c')\n",
    "x = tf.add(a,b, name='x')\n",
    "z = tf.multiply(c,x, name='z')\n",
    "\n",
    "\n",
    "with tf.Session() as sess:\n",
    "    sess.run(tf.global_variables_initializer())\n",
    "    sess.run(z)\n",
    "    # FileWriterでグラフを書く. ipynb ファイルのディレクトリに data フォルダ作成.\n",
    "    summary_writer = tf.summary.FileWriter('data', graph=sess.graph)\n",
    "    tf.summary.scalar('add_and_mult', z) # スカラー値の可視化\n",
    " \n",
    "\n",
    "\n",
    " #tf.scalar_summary('one_plus_one_summary', z)\n",
    " #sess.run(tf.initialize_all_variables())  #2017-03-02\n",
    " #summary_writer = tf.train.SummaryWriter('data', graph=sess.graph)    "
   ]
  },
  {
   "cell_type": "code",
   "execution_count": null,
   "metadata": {},
   "outputs": [],
   "source": []
  }
 ],
 "metadata": {
  "kernelspec": {
   "display_name": "Python 3",
   "language": "python",
   "name": "python3"
  },
  "language_info": {
   "codemirror_mode": {
    "name": "ipython",
    "version": 3
   },
   "file_extension": ".py",
   "mimetype": "text/x-python",
   "name": "python",
   "nbconvert_exporter": "python",
   "pygments_lexer": "ipython3",
   "version": "3.5.5"
  }
 },
 "nbformat": 4,
 "nbformat_minor": 2
}
