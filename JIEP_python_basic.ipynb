{
 "cells": [
  {
   "cell_type": "markdown",
   "metadata": {},
   "source": [
    "## 文字列と数値（型）"
   ]
  },
  {
   "cell_type": "code",
   "execution_count": 3,
   "metadata": {
    "scrolled": true
   },
   "outputs": [
    {
     "name": "stdout",
     "output_type": "stream",
     "text": [
      "hello world\n"
     ]
    }
   ],
   "source": [
    "print('hello world')"
   ]
  },
  {
   "cell_type": "code",
   "execution_count": 6,
   "metadata": {},
   "outputs": [
    {
     "name": "stdout",
     "output_type": "stream",
     "text": [
      "199\n"
     ]
    }
   ],
   "source": [
    "print('1'+'99')"
   ]
  },
  {
   "cell_type": "code",
   "execution_count": 13,
   "metadata": {},
   "outputs": [
    {
     "ename": "NameError",
     "evalue": "name 'a' is not defined",
     "output_type": "error",
     "traceback": [
      "\u001b[1;31m---------------------------------------------------------------------------\u001b[0m",
      "\u001b[1;31mNameError\u001b[0m                                 Traceback (most recent call last)",
      "\u001b[1;32m<ipython-input-13-bca0e2660b9f>\u001b[0m in \u001b[0;36m<module>\u001b[1;34m()\u001b[0m\n\u001b[1;32m----> 1\u001b[1;33m \u001b[0mprint\u001b[0m\u001b[1;33m(\u001b[0m\u001b[0ma\u001b[0m\u001b[1;33m)\u001b[0m\u001b[1;33m\u001b[0m\u001b[0m\n\u001b[0m",
      "\u001b[1;31mNameError\u001b[0m: name 'a' is not defined"
     ]
    }
   ],
   "source": [
    "print(a)"
   ]
  },
  {
   "cell_type": "code",
   "execution_count": 7,
   "metadata": {},
   "outputs": [
    {
     "name": "stdout",
     "output_type": "stream",
     "text": [
      "100\n"
     ]
    }
   ],
   "source": [
    "print(1+99)"
   ]
  },
  {
   "cell_type": "code",
   "execution_count": 9,
   "metadata": {},
   "outputs": [
    {
     "data": {
      "text/plain": [
       "str"
      ]
     },
     "execution_count": 9,
     "metadata": {},
     "output_type": "execute_result"
    }
   ],
   "source": [
    "type('99')"
   ]
  },
  {
   "cell_type": "code",
   "execution_count": 10,
   "metadata": {},
   "outputs": [
    {
     "data": {
      "text/plain": [
       "int"
      ]
     },
     "execution_count": 10,
     "metadata": {},
     "output_type": "execute_result"
    }
   ],
   "source": [
    "type(99)"
   ]
  },
  {
   "cell_type": "code",
   "execution_count": 11,
   "metadata": {},
   "outputs": [
    {
     "data": {
      "text/plain": [
       "float"
      ]
     },
     "execution_count": 11,
     "metadata": {},
     "output_type": "execute_result"
    }
   ],
   "source": [
    "type(99.9)"
   ]
  },
  {
   "cell_type": "markdown",
   "metadata": {},
   "source": [
    "## 変数"
   ]
  },
  {
   "cell_type": "code",
   "execution_count": 14,
   "metadata": {},
   "outputs": [
    {
     "name": "stdout",
     "output_type": "stream",
     "text": [
      "Yasunaga\n"
     ]
    }
   ],
   "source": [
    "x='Yasunaga'\n",
    "y='Moritoshi'\n",
    "print(x)"
   ]
  },
  {
   "cell_type": "code",
   "execution_count": 15,
   "metadata": {},
   "outputs": [
    {
     "name": "stdout",
     "output_type": "stream",
     "text": [
      "YasunagaMoritoshi\n"
     ]
    }
   ],
   "source": [
    "print(x+y)"
   ]
  },
  {
   "cell_type": "code",
   "execution_count": 1,
   "metadata": {},
   "outputs": [
    {
     "name": "stdout",
     "output_type": "stream",
     "text": [
      "11.23\n"
     ]
    }
   ],
   "source": [
    "a = 10\n",
    "b = 1.23\n",
    "print(a+b)"
   ]
  },
  {
   "cell_type": "markdown",
   "metadata": {},
   "source": [
    "## 配列(リスト）"
   ]
  },
  {
   "cell_type": "code",
   "execution_count": 5,
   "metadata": {},
   "outputs": [],
   "source": [
    "hairetsu = [[1,2,3],[4,5],[6]]"
   ]
  },
  {
   "cell_type": "code",
   "execution_count": 6,
   "metadata": {},
   "outputs": [
    {
     "name": "stdout",
     "output_type": "stream",
     "text": [
      "[1, 2, 3]\n",
      "[4, 5]\n",
      "[6]\n"
     ]
    }
   ],
   "source": [
    "for x in hairetsu:\n",
    "    print(x)\n",
    "    "
   ]
  },
  {
   "cell_type": "markdown",
   "metadata": {},
   "source": [
    "## 繰り返し（for 文）"
   ]
  },
  {
   "cell_type": "code",
   "execution_count": 8,
   "metadata": {},
   "outputs": [
    {
     "name": "stdout",
     "output_type": "stream",
     "text": [
      "[1, 2, 3]\n",
      "[4, 5]\n",
      "[6]\n"
     ]
    }
   ],
   "source": [
    "for atai in hairetsu:\n",
    "    print(atai)\n",
    "# 配列 hairetsu の 値 が 一回ごとに 変数 atai の中に入る．"
   ]
  },
  {
   "cell_type": "code",
   "execution_count": 13,
   "metadata": {},
   "outputs": [
    {
     "name": "stdout",
     "output_type": "stream",
     "text": [
      "0 [1, 2, 3]\n",
      "1 [4, 5]\n",
      "2 [6]\n"
     ]
    }
   ],
   "source": [
    "for row, atai in enumerate(hairetsu):\n",
    "    print(row, atai)\n",
    "\n",
    "# enumerata( ) によって，配列（リスト）の 行 に 行番号がつきます．\n",
    "#  配列 hairetsu の 値 (行番号と値）が 一回ごとに 変数 row と　atai の中に入る．"
   ]
  },
  {
   "cell_type": "markdown",
   "metadata": {},
   "source": [
    "## 関数"
   ]
  },
  {
   "cell_type": "code",
   "execution_count": 26,
   "metadata": {},
   "outputs": [
    {
     "name": "stdout",
     "output_type": "stream",
     "text": [
      "314.0\n",
      "<class 'float'>\n"
     ]
    }
   ],
   "source": [
    "def func(x,y):\n",
    "    z = x*y\n",
    "    return z\n",
    "\n",
    "# 関数の範囲はインデントで表します．\n",
    "\n",
    "num1 = 100\n",
    "num2 = 3.14\n",
    "\n",
    "z = func(num1, num2)\n",
    "print(z)\n",
    "print(type(z))"
   ]
  },
  {
   "cell_type": "code",
   "execution_count": 33,
   "metadata": {},
   "outputs": [
    {
     "name": "stdout",
     "output_type": "stream",
     "text": [
      "array = [[1 2 3]\n",
      " [4 5 6]\n",
      " [7 8 9]]\n",
      "hairetsu = [[1, 2, 3], [4, 5, 6], [7, 8, 9]]\n"
     ]
    }
   ],
   "source": [
    "import numpy as np\n",
    "\n",
    "hairetsu = [[1,2,3],[4,5,6],[7,8,9]]\n",
    "array = np.array(hairetsu)\n",
    "print ('array =', array)\n",
    "print('hairetsu =', hairetsu)\n"
   ]
  },
  {
   "cell_type": "code",
   "execution_count": 37,
   "metadata": {},
   "outputs": [
    {
     "name": "stdout",
     "output_type": "stream",
     "text": [
      "各要素のデータ型： int32\n",
      "次元数： 9\n",
      "[[0.5 1.  1.5]\n",
      " [2.  2.5 3. ]\n",
      " [3.5 4.  4.5]]\n",
      "0.5\n"
     ]
    }
   ],
   "source": [
    "print('各要素のデータ型：', array.dtype)\n",
    "print('次元数：', array.size)\n",
    "print(array/2)\n",
    "print(array[0][0]/2)"
   ]
  },
  {
   "cell_type": "code",
   "execution_count": 42,
   "metadata": {},
   "outputs": [
    {
     "name": "stdout",
     "output_type": "stream",
     "text": [
      "flatten_array = [1 2 3 4 5 6 7 8 9]\n"
     ]
    }
   ],
   "source": [
    "flatten = array.flatten()\n",
    "print('flatten_array =', flatten)"
   ]
  },
  {
   "cell_type": "code",
   "execution_count": 44,
   "metadata": {},
   "outputs": [
    {
     "name": "stdout",
     "output_type": "stream",
     "text": [
      "岩倉玲音\n",
      "サーバルちゃん\n"
     ]
    }
   ],
   "source": [
    "class GirlFriend(object):\n",
    "    def change_name(self, name):\n",
    "        self.name = name\n",
    "\n",
    "girl_friend = GirlFriend()\n",
    "\n",
    "# 1) メソッドでの呼び出し方\n",
    "girl_friend.change_name('岩倉玲音') \n",
    "print(girl_friend.name)  # 岩倉玲音\n",
    "\n",
    "# 2) 関数での呼び出し方\n",
    "GirlFriend.change_name(girl_friend, 'サーバルちゃん')\n",
    "print(girl_friend.name)  # サーバルちゃん"
   ]
  },
  {
   "cell_type": "code",
   "execution_count": 46,
   "metadata": {},
   "outputs": [
    {
     "name": "stdout",
     "output_type": "stream",
     "text": [
      "Counter({'a': 3, 'c': 2, 'b': 2, 'd': 1})\n",
      "a 3\n",
      "c 2\n",
      "b 2\n",
      "d 1\n"
     ]
    }
   ],
   "source": [
    "from collections import Counter\n",
    "\n",
    "hoge = ['a', 'b', 'c', 'a', 'a', 'c', 'b', 'd']\n",
    "\n",
    "counter =Counter(hoge)\n",
    "print(counter)\n",
    "\n",
    "for elem, cnt in counter.most_common():\n",
    "    print(elem, cnt)\n",
    "    "
   ]
  },
  {
   "cell_type": "code",
   "execution_count": null,
   "metadata": {},
   "outputs": [],
   "source": []
  }
 ],
 "metadata": {
  "kernelspec": {
   "display_name": "Python 3",
   "language": "python",
   "name": "python3"
  },
  "language_info": {
   "codemirror_mode": {
    "name": "ipython",
    "version": 3
   },
   "file_extension": ".py",
   "mimetype": "text/x-python",
   "name": "python",
   "nbconvert_exporter": "python",
   "pygments_lexer": "ipython3",
   "version": "3.5.5"
  }
 },
 "nbformat": 4,
 "nbformat_minor": 2
}
